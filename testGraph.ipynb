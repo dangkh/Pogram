{
 "cells": [
  {
   "cell_type": "code",
   "execution_count": 1,
   "id": "0b10697b-e3af-4c49-8933-9db2be8e8711",
   "metadata": {},
   "outputs": [
    {
     "name": "stderr",
     "output_type": "stream",
     "text": [
      "D:\\anaconda\\envs\\digat2\\lib\\site-packages\\tqdm\\auto.py:21: TqdmWarning: IProgress not found. Please update jupyter and ipywidgets. See https://ipywidgets.readthedocs.io/en/stable/user_install.html\n",
      "  from .autonotebook import tqdm as notebook_tqdm\n",
      "[nltk_data] Downloading package punkt to\n",
      "[nltk_data]     C:\\Users\\Admin\\AppData\\Roaming\\nltk_data...\n",
      "[nltk_data]   Package punkt is already up-to-date!\n"
     ]
    }
   ],
   "source": [
    "import argparse\n",
    "import numpy as np\n",
    "from torch import nn\n",
    "from src.config import TrainConfig \n",
    "from src.ultis import *\n",
    "from src.data_helper import prepare_preprocessed_data\n",
    "from src.data_load import *\n",
    "from src.metrics import *"
   ]
  },
  {
   "cell_type": "code",
   "execution_count": 2,
   "id": "51e71f88-2a19-4119-92fb-7c0f5047e063",
   "metadata": {},
   "outputs": [],
   "source": [
    "cfg = TrainConfig()"
   ]
  },
  {
   "cell_type": "code",
   "execution_count": 16,
   "id": "99b74c31-30b8-4dec-81df-07f675414f49",
   "metadata": {},
   "outputs": [],
   "source": [
    "cfg.use_graph = True\n",
    "cfg.reprocess = True"
   ]
  },
  {
   "cell_type": "code",
   "execution_count": 17,
   "id": "4aa6dc71-15c6-482a-8041-fb5410bac997",
   "metadata": {},
   "outputs": [],
   "source": [
    "def prepare_news_graph(cfg, mode='train'):\n",
    "    data_dir = {\"train\": cfg.data_dir + '_train', \"val\": cfg.data_dir + '_val', \"test\": cfg.data_dir + '_test'}\n",
    "    nltk_target_path = Path(os.path.join(cfg.data_dir + f'_{mode}', \"nltk_news_graph.pt\"))\n",
    "    reprocess_flag = False\n",
    "    if nltk_target_path.exists() is False:\n",
    "        reprocess_flag = True\n",
    "        \n",
    "    if (reprocess_flag == False) and (cfg.reprocess == False):\n",
    "        print(f\"[{mode}] All graphs exist !\")\n",
    "        return\n",
    "    # -----------------------------------------News Graph------------------------------------------------\n",
    "    behavior_path = Path(data_dir['train']) / \"behaviors.tsv\"\n",
    "    origin_graph_path = Path(data_dir['train']) / \"nltk_news_graph.pt\"\n",
    "\n",
    "    news_dict = pickle.load(open(Path(data_dir[mode]) / \"news_dict.bin\", \"rb\"))\n",
    "    nltk_token_news = pickle.load(open(Path(data_dir[mode]) / \"nltk_token_news.bin\", \"rb\"))\n",
    "    \n",
    "    # ------------------- Build Graph -------------------------------\n",
    "    if mode == 'train':\n",
    "        edge_list, user_set = [], set()\n",
    "        num_line = len(open(behavior_path, encoding='utf-8').readlines())\n",
    "        with open(behavior_path, 'r', encoding='utf-8') as f:\n",
    "            for line in tqdm(f, total=num_line, desc=f\"[{mode}] Processing behaviors news to News Graph\"):\n",
    "                line = line.strip().split('\\t')\n",
    "\n",
    "                # check duplicate user\n",
    "                used_id = line[1]\n",
    "                if used_id in user_set:\n",
    "                    continue\n",
    "                else:\n",
    "                    user_set.add(used_id)\n",
    "\n",
    "                history = line[3].split()\n",
    "                if len(history) > 1:\n",
    "                    long_edge = [news_dict[news_id] for news_id in history]\n",
    "                    edge_list.append(long_edge)\n",
    "\n",
    "        # edge count\n",
    "        node_feat = nltk_token_news[:,:22] # keep only feature of title and category, exclude entity indices.\n",
    "        target_path = nltk_target_path\n",
    "        num_nodes = len(news_dict) + 1\n",
    "\n",
    "        short_edges = []\n",
    "        for edge in tqdm(edge_list, total=len(edge_list), desc=f\"Processing news edge list\"):\n",
    "            if cfg.use_graph_type == 0:\n",
    "                for i in range(len(edge) - 1):\n",
    "                    short_edges.append((edge[i], edge[i + 1]))\n",
    "            elif cfg.use_graph_type == 1:\n",
    "                for i in range(len(edge) - 1):\n",
    "                    for j in range(i+1, len(edge)):\n",
    "                        short_edges.append((edge[i], edge[j]))\n",
    "                        short_edges.append((edge[j], edge[i]))\n",
    "            else:\n",
    "                assert False, \"Wrong\"\n",
    "\n",
    "        edge_weights = Counter(short_edges)\n",
    "        unique_edges = list(edge_weights.keys())\n",
    "\n",
    "        edge_index = torch.tensor(list(zip(*unique_edges)), dtype=torch.long)\n",
    "        edge_attr = torch.tensor([edge_weights[edge] for edge in unique_edges], dtype=torch.long)\n",
    "\n",
    "        data = Data(x=torch.from_numpy(node_feat),\n",
    "                edge_index=edge_index, edge_attr=edge_attr,\n",
    "                num_nodes=num_nodes)\n",
    "    \n",
    "        torch.save(data, target_path)\n",
    "        print(data)\n",
    "        print(f\"[{mode}] Finish News Graph Construction, \\nGraph Path: {target_path} \\nGraph Info: {data}\")\n",
    "    \n",
    "    elif mode in ['test', 'val']:\n",
    "        origin_graph = torch.load(origin_graph_path, weights_only = False)\n",
    "        edge_index = origin_graph.edge_index\n",
    "        edge_attr = origin_graph.edge_attr\n",
    "        node_feat = nltk_token_news\n",
    "\n",
    "        data = Data(x=torch.from_numpy(node_feat),\n",
    "                    edge_index=edge_index, edge_attr=edge_attr,\n",
    "                    num_nodes=len(news_dict) + 1)\n",
    "        \n",
    "        torch.save(data, nltk_target_path)\n",
    "        print(f\"[{mode}] Finish nltk News Graph Construction, \\nGraph Path: {nltk_target_path}\\nGraph Info: {data}\")\n",
    "    return data"
   ]
  },
  {
   "cell_type": "code",
   "execution_count": 19,
   "id": "f35d9c6f-d00b-4053-9057-81bf62d32d63",
   "metadata": {},
   "outputs": [],
   "source": [
    "from collections import Counter"
   ]
  },
  {
   "cell_type": "code",
   "execution_count": 20,
   "id": "bf27a7aa-5d63-43da-b7bc-6926de6e5c30",
   "metadata": {},
   "outputs": [
    {
     "name": "stderr",
     "output_type": "stream",
     "text": [
      "[train] Processing behaviors news to News Graph: 100%|█████████████████████| 156965/156965 [00:00<00:00, 304196.56it/s]\n",
      "Processing news edge list: 100%|█████████████████████████████████████████████| 48304/48304 [00:00<00:00, 333132.72it/s]\n"
     ]
    },
    {
     "name": "stdout",
     "output_type": "stream",
     "text": [
      "Data(x=[51283, 22], edge_index=[2, 632044], edge_attr=[632044], num_nodes=51283)\n",
      "[train] Finish News Graph Construction, \n",
      "Graph Path: data\\MINDsmall_train\\nltk_news_graph.pt \n",
      "Graph Info: Data(x=[51283, 22], edge_index=[2, 632044], edge_attr=[632044], num_nodes=51283)\n",
      "[val] Finish nltk News Graph Construction, \n",
      "Graph Path: data\\MINDsmall_val\\nltk_news_graph.pt\n",
      "Graph Info: Data(x=[65239, 22], edge_index=[2, 632044], edge_attr=[632044], num_nodes=65239)\n"
     ]
    }
   ],
   "source": [
    "g1 = prepare_news_graph(cfg, 'train')\n",
    "g2 = prepare_news_graph(cfg, 'val')"
   ]
  },
  {
   "cell_type": "code",
   "execution_count": null,
   "id": "574300a4-0edc-44b7-b1b5-b388d4671123",
   "metadata": {},
   "outputs": [],
   "source": []
  },
  {
   "cell_type": "code",
   "execution_count": null,
   "id": "0e0120d1-b7e5-4c87-9a36-512f5bd7c017",
   "metadata": {},
   "outputs": [],
   "source": [
    "prepare_neighbor_list(cfg, 'train', 'news')\n",
    "prepare_neighbor_list(cfg, 'val', 'news')\n",
    "# prepare_neighbor_list(cfg, 'test', 'news')"
   ]
  }
 ],
 "metadata": {
  "kernelspec": {
   "display_name": "Python 3 (ipykernel)",
   "language": "python",
   "name": "python3"
  },
  "language_info": {
   "codemirror_mode": {
    "name": "ipython",
    "version": 3
   },
   "file_extension": ".py",
   "mimetype": "text/x-python",
   "name": "python",
   "nbconvert_exporter": "python",
   "pygments_lexer": "ipython3",
   "version": "3.9.21"
  }
 },
 "nbformat": 4,
 "nbformat_minor": 5
}
