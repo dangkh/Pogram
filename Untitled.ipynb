{
 "cells": [
  {
   "cell_type": "code",
   "execution_count": 2,
   "id": "63d75256-fc3d-455c-892a-857707c5c14b",
   "metadata": {},
   "outputs": [],
   "source": [
    "import json\n",
    "from tqdm import tqdm"
   ]
  },
  {
   "cell_type": "code",
   "execution_count": 25,
   "id": "1f9b5827-fcbb-4c31-adef-f9c28cf4de2d",
   "metadata": {},
   "outputs": [],
   "source": [
    "path1 = \"./data/MINDsmall_train/behaviors.tsv\"\n",
    "lid1 = []\n"
   ]
  },
  {
   "cell_type": "code",
   "execution_count": null,
   "id": "abf1b21c-0105-4d63-a2bd-1d767aaf7e19",
   "metadata": {},
   "outputs": [],
   "source": []
  },
  {
   "cell_type": "code",
   "execution_count": 26,
   "id": "a3214e6c-1556-4f54-af24-94eda30c1139",
   "metadata": {},
   "outputs": [
    {
     "name": "stderr",
     "output_type": "stream",
     "text": [
      "156965it [00:01, 87643.75it/s]\n"
     ]
    }
   ],
   "source": [
    "with open(path1, 'r', encoding='utf-8') as f:\n",
    "    for line in tqdm(f):\n",
    "        iid, uid, time, history, imp = line.strip().split('\\t')\n",
    "        lid1.append(uid)"
   ]
  },
  {
   "cell_type": "code",
   "execution_count": 9,
   "id": "79b83e31-a477-4962-8cec-3555809ea56f",
   "metadata": {},
   "outputs": [],
   "source": [
    "path2 = \"./data/MINDsmall_val/behaviors.tsv\"\n",
    "lid2 = []"
   ]
  },
  {
   "cell_type": "code",
   "execution_count": 10,
   "id": "5762f6f5-5083-429c-b149-6446cfcc8a52",
   "metadata": {},
   "outputs": [
    {
     "name": "stderr",
     "output_type": "stream",
     "text": [
      "73152it [00:00, 100158.10it/s]\n"
     ]
    }
   ],
   "source": [
    "with open(path2, 'r', encoding='utf-8') as f:\n",
    "    for line in tqdm(f):\n",
    "        iid, uid, time, history, imp = line.strip().split('\\t')\n",
    "        lid2.append(uid)"
   ]
  },
  {
   "cell_type": "code",
   "execution_count": 11,
   "id": "3b5d7a44-bcfe-4fbd-85b1-4a9a79c17ef3",
   "metadata": {},
   "outputs": [],
   "source": [
    "def get_size(s):\n",
    "    return len(list(set(s)))"
   ]
  },
  {
   "cell_type": "code",
   "execution_count": 12,
   "id": "c91c2dba-4a06-4606-a68d-1aef7b10d8c7",
   "metadata": {},
   "outputs": [
    {
     "data": {
      "text/plain": [
       "(50000, 50000)"
      ]
     },
     "execution_count": 12,
     "metadata": {},
     "output_type": "execute_result"
    }
   ],
   "source": [
    "get_size(lid1), get_size(lid2)"
   ]
  },
  {
   "cell_type": "code",
   "execution_count": 17,
   "id": "c35485b9-c308-4a39-aa0b-8467f70ed810",
   "metadata": {},
   "outputs": [
    {
     "name": "stderr",
     "output_type": "stream",
     "text": [
      "100%|████████████████████████████████████████████████████████████████████████| 156965/156965 [02:28<00:00, 1058.98it/s]\n"
     ]
    }
   ],
   "source": [
    "count = 0\n",
    "for x in tqdm(lid1):\n",
    "    if x in lid2:\n",
    "        count+=1 "
   ]
  },
  {
   "cell_type": "code",
   "execution_count": 18,
   "id": "c41c5daa-2fbd-43d1-a030-0553bb45c4a8",
   "metadata": {},
   "outputs": [
    {
     "data": {
      "text/plain": [
       "26141"
      ]
     },
     "execution_count": 18,
     "metadata": {},
     "output_type": "execute_result"
    }
   ],
   "source": [
    "count"
   ]
  },
  {
   "cell_type": "code",
   "execution_count": 22,
   "id": "3c5f9b9c-5681-4c28-8238-975390ef37d9",
   "metadata": {},
   "outputs": [],
   "source": [
    "lid1.extend(lid2)"
   ]
  },
  {
   "cell_type": "code",
   "execution_count": 27,
   "id": "e0592eff-f307-487b-b015-3b91ae8b4455",
   "metadata": {},
   "outputs": [
    {
     "data": {
      "text/plain": [
       "50000"
      ]
     },
     "execution_count": 27,
     "metadata": {},
     "output_type": "execute_result"
    }
   ],
   "source": [
    "len(list(set(lid1)))"
   ]
  },
  {
   "cell_type": "code",
   "execution_count": 3,
   "id": "31102b48-2f44-4c09-b59d-186e742d73c0",
   "metadata": {},
   "outputs": [],
   "source": [
    "with open(\"listAllID.json\", \"r\") as file:\n",
    "    listUser = json.load(file)"
   ]
  },
  {
   "cell_type": "code",
   "execution_count": 4,
   "id": "6ceded00-062a-425f-b377-342df5f94e76",
   "metadata": {},
   "outputs": [
    {
     "data": {
      "text/plain": [
       "50000"
      ]
     },
     "execution_count": 4,
     "metadata": {},
     "output_type": "execute_result"
    }
   ],
   "source": [
    "len(list(set(listUser)))"
   ]
  }
 ],
 "metadata": {
  "kernelspec": {
   "display_name": "Python 3 (ipykernel)",
   "language": "python",
   "name": "python3"
  },
  "language_info": {
   "codemirror_mode": {
    "name": "ipython",
    "version": 3
   },
   "file_extension": ".py",
   "mimetype": "text/x-python",
   "name": "python",
   "nbconvert_exporter": "python",
   "pygments_lexer": "ipython3",
   "version": "3.9.21"
  }
 },
 "nbformat": 4,
 "nbformat_minor": 5
}
